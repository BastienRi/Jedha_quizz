{
 "cells": [
  {
   "cell_type": "markdown",
   "metadata": {},
   "source": [
    "# Quizz class creation"
   ]
  },
  {
   "cell_type": "code",
   "execution_count": 74,
   "metadata": {},
   "outputs": [],
   "source": [
    "class Quizz() :\n",
    "    \n",
    "    def __init__(self) :\n",
    "        self.questions = ['Combien de fois la France a gagné la coupe du monde ?',\n",
    "                          'Quand a été fondé Apple ?',\n",
    "                          'Qui a fondé SpaceX ?',\n",
    "                         'question4']\n",
    "        self.reponses = ['2' , '1976', 'elon musk', 'reponse4']\n",
    "        \n",
    "        self.reponse_donnee = ''\n",
    "        self.numero_question = 0\n",
    "        self.nb_chances = 3\n",
    "    \n",
    "    def bad_answer(self) :\n",
    "        self.nb_chances -= 1\n",
    "        print('Dommage ! Il te reste {} chance(s)'.format(self.nb_chances))\n",
    "        \n",
    "    def boucle_test_reponse(self) :\n",
    "        while not self.reponses[self.numero_question] == self.reponse_donnee :\n",
    "            self.bad_answer()\n",
    "            if self.nb_chances == 0 :\n",
    "                print(\"Oh non ! Tu as perdu le jeu...\")\n",
    "                break\n",
    "            else :\n",
    "                self.reponse_donnee = input(self.questions[self.numero_question]).lower()\n",
    "            \n",
    "    def lancer_quizz(self) :\n",
    "        \n",
    "        print(\"Voici notre quiz, tu as {} chances !\".format(self.nb_chances))\n",
    "        \n",
    "        for question in self.questions :\n",
    "            self.reponse_donnee = input(question).lower()\n",
    "            \n",
    "            self.boucle_test_reponse()\n",
    "            \n",
    "            if self.nb_chances > 0 :\n",
    "                self.numero_question += 1\n",
    "            else :\n",
    "                break\n",
    "        if self.nb_chances > 0 :\n",
    "            print(\"Bravo ! Tu as gagné le quiz !\")"
   ]
  },
  {
   "cell_type": "markdown",
   "metadata": {},
   "source": [
    "# Quizz launch"
   ]
  },
  {
   "cell_type": "code",
   "execution_count": 75,
   "metadata": {},
   "outputs": [
    {
     "name": "stdout",
     "output_type": "stream",
     "text": [
      "Voici notre quiz, tu as 3 chances !\n"
     ]
    },
    {
     "name": "stdin",
     "output_type": "stream",
     "text": [
      "Combien de fois la France a gagné la coupe du monde ? d\n"
     ]
    },
    {
     "name": "stdout",
     "output_type": "stream",
     "text": [
      "Dommage ! Il te reste 2 chance(s)\n"
     ]
    },
    {
     "name": "stdin",
     "output_type": "stream",
     "text": [
      "Combien de fois la France a gagné la coupe du monde ? d\n"
     ]
    },
    {
     "name": "stdout",
     "output_type": "stream",
     "text": [
      "Dommage ! Il te reste 1 chance(s)\n"
     ]
    },
    {
     "name": "stdin",
     "output_type": "stream",
     "text": [
      "Combien de fois la France a gagné la coupe du monde ? d\n"
     ]
    },
    {
     "name": "stdout",
     "output_type": "stream",
     "text": [
      "Dommage ! Il te reste 0 chance(s)\n",
      "Oh non ! Tu as perdu le jeu...\n"
     ]
    }
   ],
   "source": [
    "a = Quizz()\n",
    "a.lancer_quizz()"
   ]
  }
 ],
 "metadata": {
  "kernelspec": {
   "display_name": "Python 3",
   "language": "python",
   "name": "python3"
  },
  "language_info": {
   "codemirror_mode": {
    "name": "ipython",
    "version": 3
   },
   "file_extension": ".py",
   "mimetype": "text/x-python",
   "name": "python",
   "nbconvert_exporter": "python",
   "pygments_lexer": "ipython3",
   "version": "3.8.8"
  }
 },
 "nbformat": 4,
 "nbformat_minor": 4
}
